{
 "cells": [
  {
   "cell_type": "code",
   "execution_count": 4,
   "id": "9085b43a",
   "metadata": {
    "scrolled": true
   },
   "outputs": [
    {
     "name": "stdout",
     "output_type": "stream",
     "text": [
      "2\n",
      "1\n",
      "3\n",
      "6\n",
      "2\n",
      "3\n",
      "10\n"
     ]
    }
   ],
   "source": [
    "#2775번 첫번째 풀이\n",
    "def apt(a,b):\n",
    "    if a == 0:\n",
    "        return b\n",
    "    if b == 1:\n",
    "        return 1\n",
    "    return sum([apt(a-1,i) for i in range(1,b+1)])\n",
    "\n",
    "t = int(input())\n",
    "\n",
    "for i in range(t):\n",
    "    a = int(input())\n",
    "    b = int(input())\n",
    "    print(apt(a,b))"
   ]
  },
  {
   "cell_type": "markdown",
   "id": "a1bd24cd",
   "metadata": {},
   "source": [
    "첫번째 풀이는 시간초과\\\n",
    "첫번째 풀이는 재귀함수 이용"
   ]
  },
  {
   "cell_type": "code",
   "execution_count": 18,
   "id": "fdbc923d",
   "metadata": {},
   "outputs": [
    {
     "name": "stdout",
     "output_type": "stream",
     "text": [
      "2\n",
      "1\n",
      "3\n",
      "6\n",
      "2\n",
      "3\n",
      "10\n"
     ]
    }
   ],
   "source": [
    "#2775번 두번째 풀이\n",
    "def apt(a,b):\n",
    "    apt_list = []\n",
    "    apt_list.append([i for i in range(1,b+1)])\n",
    "    #0층일때 따로\n",
    "    if a ==0 : \n",
    "        return b\n",
    "    for i in range(a):\n",
    "        mid_list=[]\n",
    "        for j in range(b):\n",
    "            mid_list.append(sum(apt_list[i][:j+1]))\n",
    "        apt_list.append(mid_list)\n",
    "    return sum(apt_list[a-1])\n",
    "\n",
    "t = int(input())\n",
    "\n",
    "for i in range(t):\n",
    "    a = int(input())\n",
    "    b = int(input())\n",
    "    print(apt(a,b))"
   ]
  },
  {
   "cell_type": "markdown",
   "id": "18387168",
   "metadata": {},
   "source": [
    "두번째 풀이는 아파트 b열까지 살고 있는 사람의 배열을 미리 만들어서 구하는 방법"
   ]
  },
  {
   "cell_type": "code",
   "execution_count": 40,
   "id": "5b16006b",
   "metadata": {},
   "outputs": [
    {
     "name": "stdout",
     "output_type": "stream",
     "text": [
      "11\n",
      "3\n"
     ]
    }
   ],
   "source": [
    "#2839번\n",
    "n = int(input())\n",
    "check = True\n",
    "for i in range(n//5,-1,-1):\n",
    "    for j in range(n//3+1):\n",
    "        if n == (5*i + 3*j):\n",
    "            check = False\n",
    "            break\n",
    "    if check == False:\n",
    "        break\n",
    "if n == (5*i + 3*j):\n",
    "    print(i+j)\n",
    "else:\n",
    "    print(-1)"
   ]
  },
  {
   "cell_type": "code",
   "execution_count": 45,
   "id": "64d521b6",
   "metadata": {},
   "outputs": [
    {
     "name": "stdout",
     "output_type": "stream",
     "text": [
      "3\n",
      "0 3\n",
      "3\n",
      "1 5\n",
      "3\n",
      "45 50\n",
      "4\n"
     ]
    }
   ],
   "source": [
    "#x부터 y-1까지 최소로 가면 됨. \n",
    "#1011번\n",
    "t = int(input())\n",
    "for i in range(t):\n",
    "    x,y = map(int,input().split())\n",
    "    now = x + 1\n",
    "    k = 1\n",
    "    t = 1\n",
    "    if now == y:\n",
    "        print(1)\n",
    "    else:\n",
    "        while (now == y-1):\n",
    "            if y-1 - now > k+1:\n",
    "                now += k+1\n",
    "                t += 1\n",
    "                k += 1\n",
    "                continue\n",
    "            elif k-1 <= y-1 - now <= k+1:\n",
    "                t += 1\n",
    "                break\n",
    "        print(t+1)"
   ]
  }
 ],
 "metadata": {
  "kernelspec": {
   "display_name": "Python 3",
   "language": "python",
   "name": "python3"
  },
  "language_info": {
   "codemirror_mode": {
    "name": "ipython",
    "version": 3
   },
   "file_extension": ".py",
   "mimetype": "text/x-python",
   "name": "python",
   "nbconvert_exporter": "python",
   "pygments_lexer": "ipython3",
   "version": "3.7.11"
  }
 },
 "nbformat": 4,
 "nbformat_minor": 5
}
