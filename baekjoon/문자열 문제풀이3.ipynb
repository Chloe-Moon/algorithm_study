{
 "cells": [
  {
   "cell_type": "code",
   "execution_count": 18,
   "metadata": {},
   "outputs": [
    {
     "name": "stdout",
     "output_type": "stream",
     "text": [
      "UNUCIC\n",
      "36\n"
     ]
    }
   ],
   "source": [
    "#5622번 \n",
    "num_dic={'ABC':2, 'DEF':3, 'GHI':4, 'JKL':5, \n",
    "         'MNO':6, 'PQRS':7, 'TUV':8, 'WXYZ':9}\n",
    "\n",
    "a = input()\n",
    "result=0\n",
    "for now in a:\n",
    "    for i in num_dic.keys():\n",
    "        if now in i:\n",
    "            result += num_dic[i]+1\n",
    "            \n",
    "print(result)"
   ]
  },
  {
   "cell_type": "code",
   "execution_count": null,
   "metadata": {},
   "outputs": [],
   "source": [
    "#5622번 다른사람 풀이\n",
    "a = input()\n",
    "result = 0\n",
    "for i in range(0, len(a)):\n",
    "    if 'A' == a[i] or 'B' == a[i] or 'C' == a[i]:\n",
    "        result += 3\n",
    "    elif 'D' == a[i] or 'E' == a[i] or 'F' == a[i]:\n",
    "        result += 4\n",
    "    elif 'G' == a[i] or 'H' == a[i] or 'I' == a[i]:\n",
    "        result += 5\n",
    "    elif 'J' == a[i] or 'K' == a[i] or 'L' == a[i]:\n",
    "        result += 6\n",
    "    elif 'M' == a[i] or 'N' == a[i] or 'O' == a[i]:\n",
    "        result += 7\n",
    "    elif 'P' == a[i] or 'Q' == a[i] or 'R' == a[i] or 'S' == a[i]:\n",
    "        result += 8\n",
    "    elif 'T' == a[i] or 'U' == a[i] or 'V' == a[i]:\n",
    "        result += 9\n",
    "    else:\n",
    "        result += 10\n",
    "print(result)"
   ]
  },
  {
   "cell_type": "code",
   "execution_count": 39,
   "metadata": {},
   "outputs": [
    {
     "name": "stdout",
     "output_type": "stream",
     "text": [
      "2\n",
      "yzyzyz\n",
      "zyzyz\n",
      "0\n"
     ]
    }
   ],
   "source": [
    "#1316번\n",
    "n = int(input())\n",
    "result=0\n",
    "for i in range(n):\n",
    "    s = input()\n",
    "    while s:\n",
    "        now = s[0]\n",
    "        s = s[1:]\n",
    "        if s.find(now) > 0:\n",
    "            result-=1\n",
    "            break\n",
    "    result+=1\n",
    "print(result)"
   ]
  }
 ],
 "metadata": {
  "kernelspec": {
   "display_name": "Python 3",
   "language": "python",
   "name": "python3"
  },
  "language_info": {
   "codemirror_mode": {
    "name": "ipython",
    "version": 3
   },
   "file_extension": ".py",
   "mimetype": "text/x-python",
   "name": "python",
   "nbconvert_exporter": "python",
   "pygments_lexer": "ipython3",
   "version": "3.7.7"
  }
 },
 "nbformat": 4,
 "nbformat_minor": 4
}
