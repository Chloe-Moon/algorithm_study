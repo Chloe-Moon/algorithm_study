{
 "cells": [
  {
   "cell_type": "markdown",
   "metadata": {},
   "source": [
    "# 1085번\n",
    "**한수는 지금 (x, y)에 있다. 직사각형은 각 변이 좌표축에 평행하고, 왼쪽 아래 꼭짓점은 (0, 0), 오른쪽 위 꼭짓점은 (w, h)에 있다. 직사각형의 경계선까지 가는 거리의 최솟값을 구하는 프로그램을 작성하시오.**"
   ]
  },
  {
   "cell_type": "code",
   "execution_count": 2,
   "metadata": {},
   "outputs": [
    {
     "name": "stdout",
     "output_type": "stream",
     "text": [
      "161 181 762 375\n",
      "161\n"
     ]
    }
   ],
   "source": [
    "# 내 풀이\n",
    "x,y,w,h = map(int, input().split())\n",
    "print(min([x,w-x,y,h-y])) #리스트를 사용하지 않아도 튜플로 인식해서 구해짐"
   ]
  },
  {
   "cell_type": "markdown",
   "metadata": {},
   "source": [
    "# 3009번\n",
    "**세 점이 주어졌을 때, 축에 평행한 직사각형을 만들기 위해서 필요한 네 번째 점을 찾는 프로그램을 작성하시오.**"
   ]
  },
  {
   "cell_type": "markdown",
   "metadata": {},
   "source": [
    "아이디어: \\\n",
    "x,y를 입력 받을 때, min_x, max_x, min_y, max_y를 구해서\n",
    "직사각형의 모든 좌표(all_pos)를 구하고 for문으로 반복을 돌면서 입력받은 좌표 리스트(pos)에 없으면 프린트"
   ]
  },
  {
   "cell_type": "code",
   "execution_count": 58,
   "metadata": {},
   "outputs": [
    {
     "name": "stdout",
     "output_type": "stream",
     "text": [
      "30 20\n",
      "10 10\n",
      "10 20\n",
      "30 10\n"
     ]
    }
   ],
   "source": [
    "# 내 풀이 (시간:68m 메모리:29200KB)\n",
    "min_x = 1000; max_x = 0\n",
    "min_y = 1000; max_y = 0\n",
    "\n",
    "pos = []\n",
    "for i in range(3):\n",
    "    x, y = map(int, input().split())\n",
    "    \n",
    "    pos.append([x,y])\n",
    "    \n",
    "    if x < min_x: \n",
    "        min_x = x\n",
    "    if x > max_x:\n",
    "        max_x = x\n",
    "        \n",
    "    if y < min_y:\n",
    "        min_y = y\n",
    "    if y > max_y:\n",
    "        max_y = y\n",
    "    \n",
    "all_pos = [[min_x,min_y],[min_x,max_y],[max_x,min_y],[max_x,max_y]]\n",
    "\n",
    "for i in all_pos:\n",
    "    if i not in pos:\n",
    "        print(i[0],i[1])"
   ]
  },
  {
   "cell_type": "code",
   "execution_count": 62,
   "metadata": {
    "scrolled": true
   },
   "outputs": [
    {
     "name": "stdout",
     "output_type": "stream",
     "text": [
      "5 5\n",
      "5 7\n",
      "7 5\n",
      "7 7\n"
     ]
    }
   ],
   "source": [
    "# 다른 사람 풀이 (시간:52ms, 메모리: 29284KB)\n",
    "x = []\n",
    "y = []\n",
    "\n",
    "for i in range(3):\n",
    "    a,b = map(int,input().split())\n",
    "\n",
    "    if a in x : x.remove(a)\n",
    "    else : x.append(a)\n",
    "    if b in y : y.remove(b)\n",
    "    else : y.append(b)\n",
    "\n",
    "print(*x,*y)"
   ]
  }
 ],
 "metadata": {
  "kernelspec": {
   "display_name": "Python 3",
   "language": "python",
   "name": "python3"
  },
  "language_info": {
   "codemirror_mode": {
    "name": "ipython",
    "version": 3
   },
   "file_extension": ".py",
   "mimetype": "text/x-python",
   "name": "python",
   "nbconvert_exporter": "python",
   "pygments_lexer": "ipython3",
   "version": "3.7.7"
  }
 },
 "nbformat": 4,
 "nbformat_minor": 4
}
