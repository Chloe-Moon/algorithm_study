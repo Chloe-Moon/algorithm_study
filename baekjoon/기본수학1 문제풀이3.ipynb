{
 "cells": [
  {
   "cell_type": "code",
   "execution_count": 90,
   "metadata": {},
   "outputs": [
    {
     "name": "stdout",
     "output_type": "stream",
     "text": [
      "1\n",
      "6 10 56\n",
      "210\n"
     ]
    }
   ],
   "source": [
    "#10250번 처음 풀이\n",
    "t = int(input())\n",
    "\n",
    "for i in range(t):\n",
    "    h,w,n = map(int,input().split())\n",
    "    h_list = [str(i) for i in range(1,h+1)]\n",
    "    if (n-1)//h+1 < 10:\n",
    "        print(h_list[n%h-1]+'0'+str((n-1)//h+1))\n",
    "    else: \n",
    "        print(h_list[n%h-1]+str((n-1)//h+1))"
   ]
  },
  {
   "cell_type": "code",
   "execution_count": 1,
   "metadata": {
    "scrolled": true
   },
   "outputs": [
    {
     "name": "stdout",
     "output_type": "stream",
     "text": [
      "1\n",
      "6 10 18\n",
      "603\n"
     ]
    }
   ],
   "source": [
    "#10250번 다른사람 참고 풀이\n",
    "t = int(input())\n",
    "result=[]\n",
    "for i in range(t):\n",
    "    h,w,n = map(int,input().split())\n",
    "    if (n-1)//h+1 < 10 :\n",
    "        result.append('%d0%d'%((n-1)%h+1,(n-1)//h+1))\n",
    "    else:\n",
    "        result.append('%d%d'%((n-1)%h+1,(n-1)//h+1))\n",
    "for i in result:\n",
    "    print(i)"
   ]
  },
  {
   "cell_type": "code",
   "execution_count": null,
   "metadata": {},
   "outputs": [],
   "source": [
    "#10250번 다른사람 풀이\n",
    "import sys\n",
    "input = sys.stdin.readline\n",
    "\n",
    "for _ in range(int(input().rstrip())):\n",
    "    h,w,n = map(int,input().split())\n",
    "    print(str((n-1)%h+1) + str((n-1)//h+1).rjust(2,'0')) "
   ]
  }
 ],
 "metadata": {
  "kernelspec": {
   "display_name": "Python 3",
   "language": "python",
   "name": "python3"
  },
  "language_info": {
   "codemirror_mode": {
    "name": "ipython",
    "version": 3
   },
   "file_extension": ".py",
   "mimetype": "text/x-python",
   "name": "python",
   "nbconvert_exporter": "python",
   "pygments_lexer": "ipython3",
   "version": "3.7.7"
  }
 },
 "nbformat": 4,
 "nbformat_minor": 4
}
