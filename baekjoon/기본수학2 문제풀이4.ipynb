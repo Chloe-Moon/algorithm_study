{
 "cells": [
  {
   "cell_type": "markdown",
   "id": "d90106c1",
   "metadata": {},
   "source": [
    "# 4153번"
   ]
  },
  {
   "cell_type": "code",
   "execution_count": 5,
   "id": "19107e1f",
   "metadata": {
    "ExecuteTime": {
     "end_time": "2021-11-16T02:25:56.003693Z",
     "start_time": "2021-11-16T02:25:52.289647Z"
    }
   },
   "outputs": [
    {
     "name": "stdout",
     "output_type": "stream",
     "text": [
      "\n"
     ]
    }
   ],
   "source": [
    "while True:\n",
    "    nums = list(map(int, input().split()))\n",
    "    if sum(nums) == 0: break\n",
    "    a = max(nums)\n",
    "    nums.remove(a)\n",
    "    if  a**2 == nums[0]**2 + nums[1]**2:\n",
    "        print('right')\n",
    "    else:\n",
    "        print('wrong')"
   ]
  },
  {
   "cell_type": "markdown",
   "id": "223c9d84",
   "metadata": {},
   "source": [
    "# 3053번"
   ]
  },
  {
   "cell_type": "code",
   "execution_count": 11,
   "id": "ab8d1c7b",
   "metadata": {
    "ExecuteTime": {
     "end_time": "2021-11-16T02:45:53.271757Z",
     "start_time": "2021-11-16T02:45:52.417470Z"
    },
    "scrolled": true
   },
   "outputs": [
    {
     "name": "stdout",
     "output_type": "stream",
     "text": [
      "1\n",
      "3.141593\n",
      "2.000000\n"
     ]
    }
   ],
   "source": [
    "import math\n",
    "r = int(input())\n",
    "print('{:0.6f}'.format(r**2 * math.pi))\n",
    "print('{:0.6f}'.format((r**2)*2))"
   ]
  }
 ],
 "metadata": {
  "kernelspec": {
   "display_name": "Python 3 (ipykernel)",
   "language": "python",
   "name": "python3"
  },
  "language_info": {
   "codemirror_mode": {
    "name": "ipython",
    "version": 3
   },
   "file_extension": ".py",
   "mimetype": "text/x-python",
   "name": "python",
   "nbconvert_exporter": "python",
   "pygments_lexer": "ipython3",
   "version": "3.8.12"
  },
  "toc": {
   "base_numbering": 1,
   "nav_menu": {},
   "number_sections": true,
   "sideBar": true,
   "skip_h1_title": false,
   "title_cell": "Table of Contents",
   "title_sidebar": "Contents",
   "toc_cell": false,
   "toc_position": {},
   "toc_section_display": true,
   "toc_window_display": false
  },
  "varInspector": {
   "cols": {
    "lenName": 16,
    "lenType": 16,
    "lenVar": 40
   },
   "kernels_config": {
    "python": {
     "delete_cmd_postfix": "",
     "delete_cmd_prefix": "del ",
     "library": "var_list.py",
     "varRefreshCmd": "print(var_dic_list())"
    },
    "r": {
     "delete_cmd_postfix": ") ",
     "delete_cmd_prefix": "rm(",
     "library": "var_list.r",
     "varRefreshCmd": "cat(var_dic_list()) "
    }
   },
   "types_to_exclude": [
    "module",
    "function",
    "builtin_function_or_method",
    "instance",
    "_Feature"
   ],
   "window_display": false
  }
 },
 "nbformat": 4,
 "nbformat_minor": 5
}
