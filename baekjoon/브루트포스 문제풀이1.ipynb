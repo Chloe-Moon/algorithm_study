{
 "cells": [
  {
   "cell_type": "markdown",
   "id": "c04cd4ea",
   "metadata": {},
   "source": [
    "## 2798번"
   ]
  },
  {
   "cell_type": "markdown",
   "id": "875ccbdc",
   "metadata": {},
   "source": [
    "idea: m보다 작은 수로 card_list를 만들어 sort하고 \n",
    "card_list에서 제일 작은 거 두개랑 나머지 수를 더해서 m과 갭이 가장 작은 수를 구한다.  "
   ]
  },
  {
   "cell_type": "code",
   "execution_count": 30,
   "id": "e0d87699",
   "metadata": {
    "ExecuteTime": {
     "end_time": "2021-12-01T07:06:42.138973Z",
     "start_time": "2021-12-01T07:06:36.613896Z"
    },
    "scrolled": true
   },
   "outputs": [
    {
     "name": "stdout",
     "output_type": "stream",
     "text": [
      "5 21\n",
      "5 6 7 8 9\n",
      "20\n"
     ]
    }
   ],
   "source": [
    "# 풀이1 (오답)\n",
    "n,m = map(int, input().split())\n",
    "card_list = list(map(int, input().split()))\n",
    "\n",
    "card_list = [i for i in card_list if i < m]\n",
    "card_list.sort()\n",
    "\n",
    "gap=m\n",
    "presum = card_list[0] + card_list[1]\n",
    "# result = 0\n",
    "for i in range(2,len(card_list)):\n",
    "    if m - presum - card_list[i] < 0:\n",
    "        break\n",
    "    if m - presum - card_list[i] < gap:\n",
    "        gap = m - presum - card_list[i]\n",
    "#         result = b[i]\n",
    "\n",
    "print(m - gap)"
   ]
  },
  {
   "cell_type": "markdown",
   "id": "2ce01b02",
   "metadata": {},
   "source": [
    "문제점: card 숫자들이 m에 비해 많이 작을 때 card_list[0] + card_list[1]을 하는 것이 의미가 없다. "
   ]
  },
  {
   "cell_type": "markdown",
   "id": "09a05482",
   "metadata": {},
   "source": [
    "idea2: 카드의 조합으로 만들 수 있는 합을 다 구한 다음에 m과 가장 가까운 값을 찾는다. "
   ]
  },
  {
   "cell_type": "code",
   "execution_count": 39,
   "id": "740eb850",
   "metadata": {
    "ExecuteTime": {
     "end_time": "2021-12-01T08:34:08.633413Z",
     "start_time": "2021-12-01T08:33:48.130445Z"
    }
   },
   "outputs": [
    {
     "name": "stdout",
     "output_type": "stream",
     "text": [
      "10 500\n",
      "93 181 245 214 315 36 185 138 216 295\n",
      "497\n"
     ]
    }
   ],
   "source": [
    "# 풀이2 (정답)\n",
    "n,m = map(int, input().split())\n",
    "card_list = list(map(int, input().split()))\n",
    "\n",
    "card_list = [i for i in card_list if i < m]\n",
    "card_list.sort()\n",
    "# 모든 합을 다 구하기\n",
    "all_sum=[]\n",
    "\n",
    "for i in range(len(card_list)-2):\n",
    "    for j in range(i+1,len(card_list)-1):\n",
    "        for k in range(j+1, len(card_list)):\n",
    "            player_answer = card_list[i] + card_list[j] + card_list[k]\n",
    "            if player_answer > m:\n",
    "                break\n",
    "            else:\n",
    "                all_sum.append(player_answer)\n",
    "            \n",
    "print(max(all_sum))"
   ]
  }
 ],
 "metadata": {
  "kernelspec": {
   "display_name": "Python 3 (ipykernel)",
   "language": "python",
   "name": "python3"
  },
  "language_info": {
   "codemirror_mode": {
    "name": "ipython",
    "version": 3
   },
   "file_extension": ".py",
   "mimetype": "text/x-python",
   "name": "python",
   "nbconvert_exporter": "python",
   "pygments_lexer": "ipython3",
   "version": "3.8.12"
  },
  "toc": {
   "base_numbering": 1,
   "nav_menu": {},
   "number_sections": true,
   "sideBar": true,
   "skip_h1_title": false,
   "title_cell": "Table of Contents",
   "title_sidebar": "Contents",
   "toc_cell": false,
   "toc_position": {},
   "toc_section_display": true,
   "toc_window_display": false
  },
  "varInspector": {
   "cols": {
    "lenName": 16,
    "lenType": 16,
    "lenVar": 40
   },
   "kernels_config": {
    "python": {
     "delete_cmd_postfix": "",
     "delete_cmd_prefix": "del ",
     "library": "var_list.py",
     "varRefreshCmd": "print(var_dic_list())"
    },
    "r": {
     "delete_cmd_postfix": ") ",
     "delete_cmd_prefix": "rm(",
     "library": "var_list.r",
     "varRefreshCmd": "cat(var_dic_list()) "
    }
   },
   "types_to_exclude": [
    "module",
    "function",
    "builtin_function_or_method",
    "instance",
    "_Feature"
   ],
   "window_display": false
  }
 },
 "nbformat": 4,
 "nbformat_minor": 5
}
