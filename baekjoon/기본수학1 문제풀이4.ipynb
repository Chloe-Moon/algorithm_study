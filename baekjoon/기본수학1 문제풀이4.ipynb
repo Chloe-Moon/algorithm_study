{
 "cells": [
  {
   "cell_type": "code",
   "execution_count": 22,
   "id": "162e7bc6",
   "metadata": {
    "scrolled": true
   },
   "outputs": [
    {
     "name": "stdout",
     "output_type": "stream",
     "text": [
      "8\n",
      "3\n"
     ]
    }
   ],
   "source": [
    "#2292번\n",
    "n = int(input())\n",
    "i=1\n",
    "while True:\n",
    "    if ((i-1) * (6+(6*(i-1)))) / 2 < n-1 <= (i * (6+(6*i)))/2 :\n",
    "        break\n",
    "    else:\n",
    "        i+=1\n",
    "print(i+1)"
   ]
  },
  {
   "cell_type": "markdown",
   "id": "5e624150",
   "metadata": {},
   "source": [
    "2292번 시간초과. 수정필요"
   ]
  },
  {
   "cell_type": "code",
   "execution_count": 27,
   "id": "9521a4e6",
   "metadata": {},
   "outputs": [
    {
     "name": "stdout",
     "output_type": "stream",
     "text": [
      "9223372036854775807 9223372036854775808\n",
      "18446744073709551615\n"
     ]
    }
   ],
   "source": [
    "#10757번\n",
    "a,b = map(int,input().split())\n",
    "print(a+b)"
   ]
  },
  {
   "cell_type": "markdown",
   "id": "238d4c66",
   "metadata": {},
   "source": [
    "파이썬은 변수에 큰수를 넣어도 메모리가 자동으로 할당된다. "
   ]
  }
 ],
 "metadata": {
  "kernelspec": {
   "display_name": "Python 3",
   "language": "python",
   "name": "python3"
  },
  "language_info": {
   "codemirror_mode": {
    "name": "ipython",
    "version": 3
   },
   "file_extension": ".py",
   "mimetype": "text/x-python",
   "name": "python",
   "nbconvert_exporter": "python",
   "pygments_lexer": "ipython3",
   "version": "3.7.11"
  }
 },
 "nbformat": 4,
 "nbformat_minor": 5
}
