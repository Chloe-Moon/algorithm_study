{
 "cells": [
  {
   "cell_type": "markdown",
   "id": "ffd33d10",
   "metadata": {},
   "source": [
    "## 10872번"
   ]
  },
  {
   "cell_type": "code",
   "execution_count": 8,
   "id": "5f780ddf",
   "metadata": {
    "ExecuteTime": {
     "end_time": "2021-11-22T00:50:26.052189Z",
     "start_time": "2021-11-22T00:50:25.149185Z"
    }
   },
   "outputs": [
    {
     "name": "stdout",
     "output_type": "stream",
     "text": [
      "12\n",
      "479001600\n"
     ]
    }
   ],
   "source": [
    "#n*(n-1)*(n-2)*...*1\n",
    "n = int(input())\n",
    "result=1\n",
    "for i in range(n,0,-1):\n",
    "    result*=i\n",
    "print(result)"
   ]
  },
  {
   "cell_type": "markdown",
   "id": "eae8296e",
   "metadata": {},
   "source": [
    "## 10870번"
   ]
  },
  {
   "cell_type": "code",
   "execution_count": 12,
   "id": "d72bd7ed",
   "metadata": {
    "ExecuteTime": {
     "end_time": "2021-11-22T01:06:36.040041Z",
     "start_time": "2021-11-22T01:06:35.309301Z"
    }
   },
   "outputs": [
    {
     "name": "stdout",
     "output_type": "stream",
     "text": [
      "2\n",
      "1\n"
     ]
    }
   ],
   "source": [
    "#피보나치 리스트를 만들어서 계산을 해놓는 방법\n",
    "n=int(input())\n",
    "f_list=[0,1]\n",
    "for i in range(2,n+1):\n",
    "    f_list.append(f_list[i-1] + f_list[i-2])\n",
    "print(f_list[n]) "
   ]
  },
  {
   "cell_type": "code",
   "execution_count": null,
   "id": "d74a7520",
   "metadata": {},
   "outputs": [],
   "source": [
    "# 다른 사람 풀이\n",
    "# 재귀함수 이용\n",
    "def fibo(n):\n",
    "    if n <= 1: return n\n",
    "    return fibo(n-1) + fibo(n-2)\n",
    "\n",
    "print(fibo(int(input())))"
   ]
  }
 ],
 "metadata": {
  "kernelspec": {
   "display_name": "Python 3 (ipykernel)",
   "language": "python",
   "name": "python3"
  },
  "language_info": {
   "codemirror_mode": {
    "name": "ipython",
    "version": 3
   },
   "file_extension": ".py",
   "mimetype": "text/x-python",
   "name": "python",
   "nbconvert_exporter": "python",
   "pygments_lexer": "ipython3",
   "version": "3.8.12"
  },
  "toc": {
   "base_numbering": 1,
   "nav_menu": {},
   "number_sections": true,
   "sideBar": true,
   "skip_h1_title": false,
   "title_cell": "Table of Contents",
   "title_sidebar": "Contents",
   "toc_cell": false,
   "toc_position": {},
   "toc_section_display": true,
   "toc_window_display": false
  },
  "varInspector": {
   "cols": {
    "lenName": 16,
    "lenType": 16,
    "lenVar": 40
   },
   "kernels_config": {
    "python": {
     "delete_cmd_postfix": "",
     "delete_cmd_prefix": "del ",
     "library": "var_list.py",
     "varRefreshCmd": "print(var_dic_list())"
    },
    "r": {
     "delete_cmd_postfix": ") ",
     "delete_cmd_prefix": "rm(",
     "library": "var_list.r",
     "varRefreshCmd": "cat(var_dic_list()) "
    }
   },
   "types_to_exclude": [
    "module",
    "function",
    "builtin_function_or_method",
    "instance",
    "_Feature"
   ],
   "window_display": false
  }
 },
 "nbformat": 4,
 "nbformat_minor": 5
}
