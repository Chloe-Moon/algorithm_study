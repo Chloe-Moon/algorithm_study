{
 "cells": [
  {
   "cell_type": "code",
   "execution_count": 3,
   "metadata": {},
   "outputs": [
    {
     "name": "stdout",
     "output_type": "stream",
     "text": [
      "100 99 1000000000\n",
      "999999901\n"
     ]
    }
   ],
   "source": [
    "# 2869번\n",
    "import math\n",
    "a,b,v = map(int,input().split())\n",
    "\n",
    "print(math.ceil((v-b)/(a-b)))"
   ]
  },
  {
   "cell_type": "markdown",
   "metadata": {},
   "source": [
    "#### 풀이\n",
    "a(x-1) - b*(x-1) + a >= v\\\n",
    "ax - a - bx + b + a >= v\\\n",
    "ax - bx + b >= v\\\n",
    "(a-b)*x + b >= v\\\n",
    "x >= (v-b) / (a-b)"
   ]
  },
  {
   "cell_type": "code",
   "execution_count": 49,
   "metadata": {
    "scrolled": true
   },
   "outputs": [
    {
     "name": "stdout",
     "output_type": "stream",
     "text": [
      "14\n",
      "2/4\n"
     ]
    }
   ],
   "source": [
    "#1193번\n",
    "x = int(input())\n",
    "\n",
    "for k in range(1,x+1):\n",
    "    if ((k-1)*k)/2 < x <= (k*(k+1))/2:\n",
    "        top = (k*(k+1))/2\n",
    "        bottom = ((k-1)*k)/2 + 1\n",
    "        break\n",
    "\n",
    "if k % 2 == 0 : \n",
    "    print('%d/%d'%(x-bottom+1,k-(x-bottom)))\n",
    "else:\n",
    "    print('%d/%d'%(k-(x-bottom),x-bottom+1))"
   ]
  },
  {
   "cell_type": "code",
   "execution_count": 51,
   "metadata": {},
   "outputs": [
    {
     "name": "stdout",
     "output_type": "stream",
     "text": [
      "2\n",
      "1/2\n"
     ]
    }
   ],
   "source": [
    "#1193번 다른 사람 풀이\n",
    "n=int(input());a=0\n",
    "while n>0:a+=1;n-=a\n",
    "print(\"%d/%d\"%(1-n,a+n)[::a%2*2-1])"
   ]
  }
 ],
 "metadata": {
  "kernelspec": {
   "display_name": "Python 3",
   "language": "python",
   "name": "python3"
  },
  "language_info": {
   "codemirror_mode": {
    "name": "ipython",
    "version": 3
   },
   "file_extension": ".py",
   "mimetype": "text/x-python",
   "name": "python",
   "nbconvert_exporter": "python",
   "pygments_lexer": "ipython3",
   "version": "3.7.7"
  }
 },
 "nbformat": 4,
 "nbformat_minor": 4
}
