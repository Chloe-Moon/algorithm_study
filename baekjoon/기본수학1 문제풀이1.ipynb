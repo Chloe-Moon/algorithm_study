{
 "cells": [
  {
   "cell_type": "code",
   "execution_count": 22,
   "id": "e19ea753",
   "metadata": {
    "scrolled": true
   },
   "outputs": [
    {
     "name": "stdout",
     "output_type": "stream",
     "text": [
      "2100000000 9 10\n",
      "1\n",
      "2100000001\n"
     ]
    }
   ],
   "source": [
    "#1712번\n",
    "a,b,c = map(int,input().split())\n",
    "\n",
    "if c>b:\n",
    "    x = int(a / (c-b))\n",
    "    x += 1\n",
    "    #x는 x보다 큰수\n",
    "else:\n",
    "    x = -1\n",
    "\n",
    "print(x)"
   ]
  }
 ],
 "metadata": {
  "kernelspec": {
   "display_name": "Python 3",
   "language": "python",
   "name": "python3"
  },
  "language_info": {
   "codemirror_mode": {
    "name": "ipython",
    "version": 3
   },
   "file_extension": ".py",
   "mimetype": "text/x-python",
   "name": "python",
   "nbconvert_exporter": "python",
   "pygments_lexer": "ipython3",
   "version": "3.7.11"
  }
 },
 "nbformat": 4,
 "nbformat_minor": 5
}
