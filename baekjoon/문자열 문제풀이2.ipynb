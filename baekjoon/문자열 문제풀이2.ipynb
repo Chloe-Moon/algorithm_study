{
 "cells": [
  {
   "cell_type": "code",
   "execution_count": 12,
   "metadata": {
    "scrolled": true
   },
   "outputs": [
    {
     "name": "stdout",
     "output_type": "stream",
     "text": [
      "2\n",
      "3 ABC\n",
      "5 HTO\n",
      "AAABBBCCC\n",
      "HHHHHTTTTTOOOOO\n"
     ]
    }
   ],
   "source": [
    "# 2675번\n",
    "t = int(input())\n",
    "result=[]\n",
    "for i in range(t):\n",
    "    mid=''\n",
    "    a,b = input().split()\n",
    "    for j in b:\n",
    "        mid+=j*int(a)\n",
    "    result.append(mid)\n",
    "    \n",
    "for k in result:\n",
    "    print(k)"
   ]
  },
  {
   "cell_type": "markdown",
   "metadata": {},
   "source": [
    "#### 대문자 소문자로 변환하는 함수\n",
    "- 문자열.upper() : 문자열을 대문자로 변환하는 함수 \n",
    "- 문자열.lower(): 문자열을 소문자로 변환하는 함수"
   ]
  },
  {
   "cell_type": "code",
   "execution_count": null,
   "metadata": {},
   "outputs": [],
   "source": [
    "#1157번\n",
    "s = input()\n",
    "s = s.upper()\n",
    "s_dic = dict()\n",
    "for one in s:\n",
    "    s_dic[one] = s.count(one)"
   ]
  },
  {
   "cell_type": "markdown",
   "metadata": {},
   "source": [
    "#### 문자열 관련 함수\n",
    "- 문자열.strip() : 양쪽의 공백을 제거해주는 함수. \n",
    "- 문자열.split('구분자'): 구분자를 기준으로 문자열을 잘라서 리스트로 만들어 주는 함수."
   ]
  },
  {
   "cell_type": "code",
   "execution_count": 16,
   "metadata": {
    "scrolled": true
   },
   "outputs": [
    {
     "name": "stdout",
     "output_type": "stream",
     "text": [
      " The first character is a blank\n",
      "6\n"
     ]
    }
   ],
   "source": [
    "#1152번\n",
    "s = input().strip().split()\n",
    "print(len(s))"
   ]
  },
  {
   "cell_type": "code",
   "execution_count": 21,
   "metadata": {},
   "outputs": [
    {
     "name": "stdout",
     "output_type": "stream",
     "text": [
      "221 231\n",
      "132\n"
     ]
    }
   ],
   "source": [
    "#2908번\n",
    "a,b = input().split()\n",
    "a = a[::-1]\n",
    "b = b[::-1]\n",
    "\n",
    "print(max(a,b))"
   ]
  },
  {
   "cell_type": "code",
   "execution_count": 30,
   "metadata": {},
   "outputs": [
    {
     "name": "stdout",
     "output_type": "stream",
     "text": [
      "dz=ak\n",
      "\n",
      "2\n"
     ]
    }
   ],
   "source": [
    "# 2941번\n",
    "a = ['c=','c-','dz=','d-','lj','nj','s=','z=']\n",
    "s = input()\n",
    "result = len(s)\n",
    "print()\n",
    "for i in a:\n",
    "    if i in s:\n",
    "        result = result-(len(i)-1)*(s.count(i))\n",
    "        \n",
    "print(result)"
   ]
  }
 ],
 "metadata": {
  "kernelspec": {
   "display_name": "Python 3",
   "language": "python",
   "name": "python3"
  },
  "language_info": {
   "codemirror_mode": {
    "name": "ipython",
    "version": 3
   },
   "file_extension": ".py",
   "mimetype": "text/x-python",
   "name": "python",
   "nbconvert_exporter": "python",
   "pygments_lexer": "ipython3",
   "version": "3.7.7"
  }
 },
 "nbformat": 4,
 "nbformat_minor": 4
}
