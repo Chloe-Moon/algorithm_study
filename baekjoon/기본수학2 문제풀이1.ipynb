{
 "cells": [
  {
   "cell_type": "code",
   "execution_count": 19,
   "metadata": {
    "scrolled": true
   },
   "outputs": [
    {
     "name": "stdout",
     "output_type": "stream",
     "text": [
      "4\n",
      "1 3 5 7\n",
      "3\n"
     ]
    }
   ],
   "source": [
    "#1978번 소수찾기\n",
    "import math\n",
    "\n",
    "def prime_num(n):\n",
    "    if n == 1:\n",
    "        return False\n",
    "    for i in range(2, int(math.sqrt(n))+1): # n의 제곱근을 정수화 시켜준 후 + 1\n",
    "        if n % i == 0:\n",
    "            return False\n",
    "\n",
    "    return True\n",
    "\n",
    "n = int(input())\n",
    "n_list = list(map(int, input().split()))\n",
    "result = 0\n",
    "\n",
    "for i in n_list:\n",
    "    if prime_num(i) == True:\n",
    "        result += 1\n",
    "        \n",
    "print(result) #소수의 개수"
   ]
  },
  {
   "cell_type": "markdown",
   "metadata": {},
   "source": [
    "풀이 참고: https://seongonion.tistory.com/43"
   ]
  },
  {
   "cell_type": "code",
   "execution_count": 21,
   "metadata": {},
   "outputs": [
    {
     "name": "stdout",
     "output_type": "stream",
     "text": [
      "60\n",
      "100\n",
      "620\n",
      "61\n"
     ]
    }
   ],
   "source": [
    "# 문제 2581번\n",
    "import math\n",
    "m = int(input())\n",
    "n = int(input())\n",
    "mn_list = [i for i in range(m,n+1)]\n",
    "check = True\n",
    "for i in range(m,n+1):\n",
    "    for j in range(2,int(math.sqrt(i))+1):\n",
    "        if i % j == 0: #소수가 아닐 때\n",
    "            mn_list.remove(i)\n",
    "            break\n",
    "if 1 in mn_list:\n",
    "    mn_list.remove(1)\n",
    "    \n",
    "if len(mn_list) == 0:\n",
    "    print(-1)\n",
    "else:\n",
    "    print(sum(mn_list)) #m과 n 사이 소수의 합\n",
    "    print(min(mn_list)) #m과 n 사이 소수중 가장 작은 값"
   ]
  }
 ],
 "metadata": {
  "kernelspec": {
   "display_name": "Python 3",
   "language": "python",
   "name": "python3"
  },
  "language_info": {
   "codemirror_mode": {
    "name": "ipython",
    "version": 3
   },
   "file_extension": ".py",
   "mimetype": "text/x-python",
   "name": "python",
   "nbconvert_exporter": "python",
   "pygments_lexer": "ipython3",
   "version": "3.7.7"
  }
 },
 "nbformat": 4,
 "nbformat_minor": 4
}
