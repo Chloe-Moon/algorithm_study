{
 "cells": [
  {
   "cell_type": "code",
   "execution_count": null,
   "id": "8e8e848c",
   "metadata": {},
   "outputs": [],
   "source": [
    "#소수찾기\n",
    "import math\n",
    "n = 1000\n",
    "#처음엔 모든 수가 소수인것으로 초기화 0과1은 제외\n",
    "array =[True for i in range(n+1)]\n",
    "\n",
    "for i in range(2,int(math.sqrt(n)) + 1):\n",
    "    if array[i] == True:\n",
    "        j = 2 # i 자신을 제외한 i의 배수를 지워주기 위한 변수\n",
    "        while i * j <= n:\n",
    "            array[i*j] = False\n",
    "            j += 1            "
   ]
  },
  {
   "cell_type": "code",
   "execution_count": 173,
   "id": "abfbe6a5",
   "metadata": {
    "ExecuteTime": {
     "end_time": "2021-11-11T08:30:49.535347Z",
     "start_time": "2021-11-11T08:30:45.988175Z"
    }
   },
   "outputs": [
    {
     "name": "stdout",
     "output_type": "stream",
     "text": [
      "5 15\n",
      "5\n",
      "7\n",
      "11\n",
      "13\n"
     ]
    }
   ],
   "source": [
    "# 1929번\n",
    "import math\n",
    "m,n = map(int, input().split())\n",
    "\n",
    "array = [i for i in range(m,n+1)]\n",
    "if m == 1: #m이 1일때 array에 포함하지 않기 위해\n",
    "    array.pop(0)\n",
    "    \n",
    "prime_not = [] #소수가 아닌 수를 담는 리스트\n",
    "for i in range(2, int(math.sqrt(n)) + 1):\n",
    "    if i not in prime_not: #소수가 아닌 리스트에 없는 수 중에\n",
    "        j = 2\n",
    "        while i * j <= n:\n",
    "            prime_not.append(i*j) #소수의 배수를 소수가 아닌 리스트에 추가\n",
    "            j += 1\n",
    "            \n",
    "prime_list = list(set(array) - set(prime_not)) # m부터 n까지의 모든 수에서 소수가 아닌 값을 뺀다\n",
    "prime_list.sort()\n",
    "for prime in prime_list:\n",
    "    print(prime)"
   ]
  },
  {
   "cell_type": "code",
   "execution_count": 84,
   "id": "a7076e85",
   "metadata": {
    "ExecuteTime": {
     "end_time": "2021-11-11T02:01:28.378015Z",
     "start_time": "2021-11-11T02:01:25.449457Z"
    }
   },
   "outputs": [
    {
     "name": "stdout",
     "output_type": "stream",
     "text": [
      "72\n",
      "2\n",
      "2\n",
      "2\n",
      "3\n",
      "3\n"
     ]
    }
   ],
   "source": [
    "#11653번\n",
    "import math\n",
    "n = int(input())\n",
    "\n",
    "for i in range(2, n + 1):\n",
    "    while n != 1 :\n",
    "        if n%i == 0:\n",
    "            print(i)\n",
    "            n = n / i\n",
    "        else:\n",
    "            break"
   ]
  },
  {
   "cell_type": "markdown",
   "id": "13537d43",
   "metadata": {},
   "source": [
    "풀이 참고 :https://leedakyeong.tistory.com/entry/%EB%B0%B1%EC%A4%80-11653%EB%B2%88-%EC%86%8C%EC%9D%B8%EC%88%98%EB%B6%84%ED%95%B4-in-python-%ED%8C%8C%EC%9D%B4%EC%8D%AC"
   ]
  },
  {
   "cell_type": "code",
   "execution_count": 172,
   "id": "402ce964",
   "metadata": {
    "ExecuteTime": {
     "end_time": "2021-11-11T08:29:14.570377Z",
     "start_time": "2021-11-11T08:29:13.628169Z"
    }
   },
   "outputs": [
    {
     "name": "stdout",
     "output_type": "stream",
     "text": [
      "6\n",
      "2\n",
      "3\n"
     ]
    }
   ],
   "source": [
    "#11653번 (내 풀이) (메모리초과)\n",
    "import math\n",
    "n = int(input())\n",
    "array = [True for i in range(n+1)]\n",
    "prime_not = []\n",
    "for i in range(2, int(math.sqrt(n)) + 1):\n",
    "    if array[i] == True:\n",
    "        j = 2\n",
    "        while i * j <= n:\n",
    "            array[i*j] = False\n",
    "            prime_not.append(i*j)\n",
    "            j += 1\n",
    "            \n",
    "prime_list = list(set([i for i in range(2,n+1)]) - set(prime_not)) \n",
    "\n",
    "result = []\n",
    "for prime in prime_list:\n",
    "    while n % prime == 0:\n",
    "        result.append(prime)\n",
    "        n = n / prime\n",
    "for i in result:\n",
    "    print(i)"
   ]
  },
  {
   "cell_type": "code",
   "execution_count": 57,
   "id": "8dd8726c",
   "metadata": {
    "ExecuteTime": {
     "end_time": "2021-11-11T01:21:23.631742Z",
     "start_time": "2021-11-11T01:21:22.950360Z"
    },
    "scrolled": true
   },
   "outputs": [
    {
     "name": "stdout",
     "output_type": "stream",
     "text": [
      "6\n",
      "2\n",
      "3\n"
     ]
    }
   ],
   "source": [
    "#11653번 (내 풀이) (시간초과)\n",
    "import math\n",
    "n = int(input())\n",
    "\n",
    "prime_list = [i for i in range(2, n + 1)]\n",
    "\n",
    "for i in range(2, int(math.sqrt(n)) + 1):\n",
    "    if (i in prime_list):\n",
    "        j = 2\n",
    "        while i * j <= n:\n",
    "            if i * j in prime_list:\n",
    "                prime_list.remove(i*j)\n",
    "            j += 1\n",
    "result=[] \n",
    "\n",
    "for prime in prime_list:\n",
    "    while n % prime == 0:\n",
    "        result.append(prime)\n",
    "        n = n / prime\n",
    "        \n",
    "if len(result) == 0 and n != 1:\n",
    "    print(n)\n",
    "else:\n",
    "    for i in result:\n",
    "        print(i)"
   ]
  },
  {
   "cell_type": "code",
   "execution_count": 98,
   "id": "e4af9a8d",
   "metadata": {
    "ExecuteTime": {
     "end_time": "2021-11-11T03:20:54.302883Z",
     "start_time": "2021-11-11T03:20:47.562793Z"
    }
   },
   "outputs": [
    {
     "name": "stdout",
     "output_type": "stream",
     "text": [
      "1\n",
      "1\n",
      "10\n",
      "4\n",
      "13\n",
      "3\n",
      "15\n",
      "4\n",
      "0\n"
     ]
    }
   ],
   "source": [
    "#4948번 (시간초과)\n",
    "import math\n",
    "while True:\n",
    "    n = int(input())\n",
    "    if n == 0:\n",
    "        break\n",
    "    prime_list = [i for i in range(n+1, 2*n + 1)]\n",
    "    \n",
    "    for i in range(2, int(math.sqrt(2*n) + 1)):\n",
    "        j = 2\n",
    "        while i * j <= 2*n:\n",
    "            if i*j in prime_list:\n",
    "                prime_list.remove(i*j)\n",
    "            j+=1\n",
    "        \n",
    "    print(len(prime_list))"
   ]
  },
  {
   "cell_type": "code",
   "execution_count": 159,
   "id": "cd3104dd",
   "metadata": {
    "ExecuteTime": {
     "end_time": "2021-11-11T06:08:30.491049Z",
     "start_time": "2021-11-11T06:08:25.406264Z"
    }
   },
   "outputs": [
    {
     "name": "stdout",
     "output_type": "stream",
     "text": [
      "1\n",
      "1\n",
      "10\n",
      "4\n",
      "100\n",
      "21\n",
      "1000\n",
      "135\n",
      "0\n"
     ]
    }
   ],
   "source": [
    "#4948번 (시간초과)\n",
    "import math\n",
    "while True:\n",
    "    n = int(input())\n",
    "    if n == 0:\n",
    "        break\n",
    "    prime_list = [i for i in range(n+1, 2*n + 1)]\n",
    "    result = 0\n",
    "    for i in range(n+1,2*n + 1):\n",
    "        result += 1\n",
    "        for j in range(2, int(math.sqrt(2*n))+1):\n",
    "            if i % j == 0 :\n",
    "                result -=1\n",
    "                break\n",
    "        \n",
    "    print(result)"
   ]
  },
  {
   "cell_type": "markdown",
   "id": "37a30a28",
   "metadata": {},
   "source": [
    "- 해결방법1:\\\n",
    "while 내에서 소수를 구하지 말고, 범위내의 소수를 미리 구해둔다.\n",
    "- 해결방법2:\\\n",
    "https://leedakyeong.tistory.com/entry/%EB%B0%B1%EC%A4%80-4948%EB%B2%88-%EB%B2%A0%EB%A5%B4%ED%8A%B8%EB%9E%91-%EA%B3%B5%EC%A4%80-in-%ED%8C%8C%EC%9D%B4%EC%8D%AC-%EC%89%BD%EA%B2%8C-%ED%92%80%EA%B8%B0\n"
   ]
  },
  {
   "cell_type": "code",
   "execution_count": 160,
   "id": "ba4e5250",
   "metadata": {
    "ExecuteTime": {
     "end_time": "2021-11-11T06:49:08.336365Z",
     "start_time": "2021-11-11T06:48:59.239759Z"
    }
   },
   "outputs": [
    {
     "name": "stdout",
     "output_type": "stream",
     "text": [
      "3\n",
      "8\n",
      "3 5\n",
      "10\n",
      "5 5\n",
      "16\n",
      "5 11\n"
     ]
    }
   ],
   "source": [
    "#9020번 (시간초과)\n",
    "import math\n",
    "for i in range(int(input())):\n",
    "    n = int(input())\n",
    "    prime_list = [i for i in range(2, n + 1)]\n",
    "\n",
    "    for i in range(2, int(math.sqrt(n)) + 1):\n",
    "        if (i in prime_list):\n",
    "            j = 2\n",
    "            while i * j <= n:\n",
    "                if i * j in prime_list:\n",
    "                    prime_list.remove(i*j)\n",
    "                j += 1\n",
    "    result=[] \n",
    "    \n",
    "    # n까지의 소수를 포함한 list에서 중간 값부터 이용하여 n을 소수끼리의 덧셈으로 표현\n",
    "    i = int((len(prime_list)/2)) # prime_list의 중간값의 인덱스\n",
    "    while n > 0:\n",
    "        next_n = n - prime_list[i] # n에서 현재 소수를 뺀다 \n",
    "        if next_n == 0: # next_n이 0일때는 반복을 종료 (소수끼리의 덧셈을 찾은 것)\n",
    "            result.append(prime_list[i])\n",
    "            break\n",
    "        if next_n in prime_list: # \n",
    "            result.append(prime_list[i])\n",
    "            n = next_n\n",
    "            i = prime_list.index(n)\n",
    "        else:\n",
    "            i += 1\n",
    "    result.sort()    \n",
    "    print(result[0],result[1])"
   ]
  },
  {
   "cell_type": "code",
   "execution_count": 171,
   "id": "e695e42d",
   "metadata": {
    "ExecuteTime": {
     "end_time": "2021-11-11T08:00:44.024613Z",
     "start_time": "2021-11-11T08:00:36.570480Z"
    }
   },
   "outputs": [
    {
     "name": "stdout",
     "output_type": "stream",
     "text": [
      "3\n",
      "10\n",
      "5 5\n",
      "12\n",
      "5 7\n",
      "16\n",
      "5 11\n"
     ]
    }
   ],
   "source": [
    "#9020번 (시간초과)\n",
    "import math\n",
    "\n",
    "prime_list = [i for i in range(2, 10001)]\n",
    "\n",
    "for i in range(2, int(math.sqrt(10000)) + 1):\n",
    "    if (i in prime_list):\n",
    "        j = 2\n",
    "        while i * j <= 10000:\n",
    "            if i * j in prime_list:\n",
    "                prime_list.remove(i*j)\n",
    "            j += 1\n",
    "for i in range(int(input())):\n",
    "    n = int(input())\n",
    "    prime = [ i for i in prime_list if i <= n]\n",
    "    result=[] \n",
    "    \n",
    "    # n까지의 소수를 포함한 list에서 중간 값부터 이용하여 n을 소수끼리의 덧셈으로 표현\n",
    "    i = int((len(prime)/2)) # prime_list의 중간값의 인덱스\n",
    "    while n > 0:\n",
    "        next_n = n - prime[i] # n에서 현재 소수를 뺀다 \n",
    "        if next_n == 0: # next_n이 0일때는 반복을 종료 (소수끼리의 덧셈을 찾은 것)\n",
    "            result.append(prime[i])\n",
    "            break\n",
    "        if next_n in prime: # \n",
    "            result.append(prime[i])\n",
    "            n = next_n\n",
    "            i = prime.index(n)\n",
    "        else:\n",
    "            i += 1\n",
    "    result.sort()    \n",
    "    print(result[0],result[1])"
   ]
  }
 ],
 "metadata": {
  "kernelspec": {
   "display_name": "Python 3 (ipykernel)",
   "language": "python",
   "name": "python3"
  },
  "language_info": {
   "codemirror_mode": {
    "name": "ipython",
    "version": 3
   },
   "file_extension": ".py",
   "mimetype": "text/x-python",
   "name": "python",
   "nbconvert_exporter": "python",
   "pygments_lexer": "ipython3",
   "version": "3.8.12"
  },
  "toc": {
   "base_numbering": 1,
   "nav_menu": {},
   "number_sections": true,
   "sideBar": true,
   "skip_h1_title": false,
   "title_cell": "Table of Contents",
   "title_sidebar": "Contents",
   "toc_cell": false,
   "toc_position": {},
   "toc_section_display": true,
   "toc_window_display": false
  },
  "varInspector": {
   "cols": {
    "lenName": 16,
    "lenType": 16,
    "lenVar": 40
   },
   "kernels_config": {
    "python": {
     "delete_cmd_postfix": "",
     "delete_cmd_prefix": "del ",
     "library": "var_list.py",
     "varRefreshCmd": "print(var_dic_list())"
    },
    "r": {
     "delete_cmd_postfix": ") ",
     "delete_cmd_prefix": "rm(",
     "library": "var_list.r",
     "varRefreshCmd": "cat(var_dic_list()) "
    }
   },
   "types_to_exclude": [
    "module",
    "function",
    "builtin_function_or_method",
    "instance",
    "_Feature"
   ],
   "window_display": false
  }
 },
 "nbformat": 4,
 "nbformat_minor": 5
}
