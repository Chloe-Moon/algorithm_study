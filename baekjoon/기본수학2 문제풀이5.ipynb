{
 "cells": [
  {
   "cell_type": "markdown",
   "metadata": {},
   "source": [
    "## 1002번"
   ]
  },
  {
   "cell_type": "code",
   "execution_count": 7,
   "metadata": {
    "ExecuteTime": {
     "end_time": "2021-11-18T05:12:19.832326Z",
     "start_time": "2021-11-18T05:12:02.821769Z"
    },
    "scrolled": true
   },
   "outputs": [
    {
     "name": "stdout",
     "output_type": "stream",
     "text": [
      "3\n",
      "0 0 13 40 0 37\n",
      "2\n",
      "0 0 3 0 7 4\n",
      "1\n",
      "1 1 1 1 1 5\n",
      "0\n"
     ]
    }
   ],
   "source": [
    "import math\n",
    "t = int(input())\n",
    "for i in range(t):\n",
    "    x1,y1,r1,x2,y2,r2 = map(int,input().split())\n",
    "    distance = math.sqrt((x1-x2)**2 + (y1-y2)**2)\n",
    "    if distance == 0 and r1 == r2 :  #두 원이 동일 할 때\n",
    "        print(-1)\n",
    "    elif distance == r1 + r2 or distance == abs(r2-r1): #외접하는 경우, 내접하는 경우\n",
    "        print(1)\n",
    "    elif abs(r1-r2) < distance < (r1+r2): \n",
    "        print(2)\n",
    "    else: # 원안에 있거나 아예 밖에 있을 때\n",
    "        print(0)"
   ]
  },
  {
   "cell_type": "markdown",
   "metadata": {},
   "source": [
    "    if distance == 0 and r1 == r2 :  #두 원이 동일 할 때\n",
    "        print(-1)\n",
    "        \n",
    "위의 부분을 꼭 제일 위에 두어야 한다. \\\n",
    "distance == abs(r2-r1) 이 조건도 만족하므로 print(1)이 위로 가면 아예 틀린 답이 되어버린다. "
   ]
  },
  {
   "cell_type": "markdown",
   "metadata": {},
   "source": [
    "## 4948번"
   ]
  },
  {
   "cell_type": "markdown",
   "metadata": {},
   "source": [
    "https://leedakyeong.tistory.com/entry/%EB%B0%B1%EC%A4%80-4948%EB%B2%88-%EB%B2%A0%EB%A5%B4%ED%8A%B8%EB%9E%91-%EA%B3%B5%EC%A4%80-in-%ED%8C%8C%EC%9D%B4%EC%8D%AC-%EC%89%BD%EA%B2%8C-%ED%92%80%EA%B8%B0"
   ]
  },
  {
   "cell_type": "code",
   "execution_count": null,
   "metadata": {},
   "outputs": [],
   "source": [
    "# 답 참고\n",
    "def prime_list(n):\n",
    "    prime = [True] * n\n",
    "    m = int(n ** 0.5)\n",
    "    for i in range(2, m+1):\n",
    "        if prime[i] ==True:\n",
    "            for j in range(i+i, n, i): #i의 배수 삭제\n",
    "                prime[j] = False\n",
    "    return [ i for i in range(2,n) if prime[i]==True]\n",
    "\n",
    "while True:\n",
    "    n = int(input())\n",
    "    if n ==0: break\n",
    "    li = prime_list(2*n +1) #0~2n까지 prime number 여부를 나타내는 리스트\n",
    "    print(len([i for i in li if i>n])) #n에서 2n 범위를 주는 부분"
   ]
  }
 ],
 "metadata": {
  "kernelspec": {
   "display_name": "Python 3 (ipykernel)",
   "language": "python",
   "name": "python3"
  },
  "language_info": {
   "codemirror_mode": {
    "name": "ipython",
    "version": 3
   },
   "file_extension": ".py",
   "mimetype": "text/x-python",
   "name": "python",
   "nbconvert_exporter": "python",
   "pygments_lexer": "ipython3",
   "version": "3.8.12"
  },
  "toc": {
   "base_numbering": 1,
   "nav_menu": {},
   "number_sections": true,
   "sideBar": true,
   "skip_h1_title": false,
   "title_cell": "Table of Contents",
   "title_sidebar": "Contents",
   "toc_cell": false,
   "toc_position": {},
   "toc_section_display": true,
   "toc_window_display": false
  },
  "varInspector": {
   "cols": {
    "lenName": 16,
    "lenType": 16,
    "lenVar": 40
   },
   "kernels_config": {
    "python": {
     "delete_cmd_postfix": "",
     "delete_cmd_prefix": "del ",
     "library": "var_list.py",
     "varRefreshCmd": "print(var_dic_list())"
    },
    "r": {
     "delete_cmd_postfix": ") ",
     "delete_cmd_prefix": "rm(",
     "library": "var_list.r",
     "varRefreshCmd": "cat(var_dic_list()) "
    }
   },
   "types_to_exclude": [
    "module",
    "function",
    "builtin_function_or_method",
    "instance",
    "_Feature"
   ],
   "window_display": false
  }
 },
 "nbformat": 4,
 "nbformat_minor": 4
}
